{
 "cells": [
  {
   "cell_type": "code",
   "execution_count": 9,
   "metadata": {},
   "outputs": [
    {
     "data": {
      "text/plain": [
       "0"
      ]
     },
     "execution_count": 9,
     "metadata": {},
     "output_type": "execute_result"
    }
   ],
   "source": [
    "import os \n",
    "from ctypes import cdll \n",
    "\n",
    "# Simulator \n",
    "sim_path_os = ('darwin','libSymuVia.dylib')\n",
    "sim_path_win= ('windows','SymuVia.dll')\n",
    "sim_full_path = os.path.join(os.getcwd(),*sim_path_os)\n",
    "\n",
    "# XML\n",
    "filename = 'bottleneck_001.xml'\n",
    "fn_full_path = os.path.join(os.getcwd(),filename)\n",
    "\n",
    "# Loading \n",
    "simulator = cdll.LoadLibrary(sim_full_path)\n",
    "\n",
    "# Load xml \n",
    "simulator.SymLoadNetworkEx(fn_full_path.encode('UTF8'))\n",
    "\n",
    "# Full simulation \n",
    "simulator.SymRunEx(fn_full_path.encode('UTF8')) # Error here "
   ]
  },
  {
   "cell_type": "code",
   "execution_count": 10,
   "metadata": {},
   "outputs": [
    {
     "data": {
      "text/plain": [
       "'3.7.3 | packaged by conda-forge | (default, Mar 27 2019, 15:43:19) \\n[Clang 4.0.1 (tags/RELEASE_401/final)]'"
      ]
     },
     "execution_count": 10,
     "metadata": {},
     "output_type": "execute_result"
    }
   ],
   "source": [
    "import sys\n",
    "sys.version"
   ]
  },
  {
   "cell_type": "code",
   "execution_count": null,
   "metadata": {},
   "outputs": [],
   "source": []
  }
 ],
 "metadata": {
  "kernelspec": {
   "display_name": "Python 3",
   "language": "python",
   "name": "python3"
  },
  "language_info": {
   "codemirror_mode": {
    "name": "ipython",
    "version": 3
   },
   "file_extension": ".py",
   "mimetype": "text/x-python",
   "name": "python",
   "nbconvert_exporter": "python",
   "pygments_lexer": "ipython3",
   "version": "3.7.3"
  }
 },
 "nbformat": 4,
 "nbformat_minor": 2
}
