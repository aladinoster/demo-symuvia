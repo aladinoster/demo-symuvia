{
 "cells": [
  {
   "cell_type": "code",
   "execution_count": 8,
   "metadata": {},
   "outputs": [],
   "source": [
    "import os \n",
    "from symupy.api import Simulator,Simulation\n",
    "\n",
    "# Simulator \n",
    "sim_path_os = ('darwin','libSymuVia.dylib')\n",
    "sim_path_win= ('windows','SymuVia.dll')\n",
    "sim_full_path = os.path.join(os.getcwd(),*sim_path_os)\n",
    "\n",
    "# XML\n",
    "filename = 'bottleneck_001.xml'\n",
    "fn_full_path = os.path.join(os.getcwd(),filename)"
   ]
  },
  {
   "cell_type": "code",
   "execution_count": 9,
   "metadata": {},
   "outputs": [
    {
     "data": {
      "text/plain": [
       "Simulator(/Users/andresladino/Documents/03-Code/02-Python/practices/demo-symuvia/darwin/libSymuVia.dylib)"
      ]
     },
     "execution_count": 9,
     "metadata": {},
     "output_type": "execute_result"
    }
   ],
   "source": [
    "sim_case = Simulation()\n",
    "sim_instance = Simulator.from_path(filename, sim_full_path)\n",
    "sim_instance"
   ]
  },
  {
   "cell_type": "code",
   "execution_count": 12,
   "metadata": {},
   "outputs": [
    {
     "ename": "TypeError",
     "evalue": "run_simulation() missing 1 required positional argument: 'sim_object'",
     "output_type": "error",
     "traceback": [
      "\u001b[0;31m---------------------------------------------------------------------------\u001b[0m",
      "\u001b[0;31mTypeError\u001b[0m                                 Traceback (most recent call last)",
      "\u001b[0;32m<ipython-input-12-bd159792ec91>\u001b[0m in \u001b[0;36m<module>\u001b[0;34m\u001b[0m\n\u001b[0;32m----> 1\u001b[0;31m \u001b[0msim_instance\u001b[0m\u001b[0;34m.\u001b[0m\u001b[0mrun_simulation\u001b[0m\u001b[0;34m(\u001b[0m\u001b[0;34m)\u001b[0m\u001b[0;34m\u001b[0m\u001b[0;34m\u001b[0m\u001b[0m\n\u001b[0m",
      "\u001b[0;32m~/Documents/03-Code/02-Python/practices/demo-symuvia/symupy/utils/tools.py\u001b[0m in \u001b[0;36mwrapper\u001b[0;34m(*args, **kwargs)\u001b[0m\n\u001b[1;32m     23\u001b[0m     \u001b[0;32mdef\u001b[0m \u001b[0mwrapper\u001b[0m\u001b[0;34m(\u001b[0m\u001b[0;34m*\u001b[0m\u001b[0margs\u001b[0m\u001b[0;34m,\u001b[0m \u001b[0;34m**\u001b[0m\u001b[0mkwargs\u001b[0m\u001b[0;34m)\u001b[0m\u001b[0;34m:\u001b[0m\u001b[0;34m\u001b[0m\u001b[0;34m\u001b[0m\u001b[0m\n\u001b[1;32m     24\u001b[0m         \u001b[0mt1\u001b[0m \u001b[0;34m=\u001b[0m \u001b[0mtime\u001b[0m\u001b[0;34m.\u001b[0m\u001b[0mtime\u001b[0m\u001b[0;34m(\u001b[0m\u001b[0;34m)\u001b[0m\u001b[0;34m\u001b[0m\u001b[0;34m\u001b[0m\u001b[0m\n\u001b[0;32m---> 25\u001b[0;31m         \u001b[0mresult\u001b[0m \u001b[0;34m=\u001b[0m \u001b[0morig_func\u001b[0m\u001b[0;34m(\u001b[0m\u001b[0;34m*\u001b[0m\u001b[0margs\u001b[0m\u001b[0;34m,\u001b[0m \u001b[0;34m**\u001b[0m\u001b[0mkwargs\u001b[0m\u001b[0;34m)\u001b[0m\u001b[0;34m\u001b[0m\u001b[0;34m\u001b[0m\u001b[0m\n\u001b[0m\u001b[1;32m     26\u001b[0m         \u001b[0mt2\u001b[0m \u001b[0;34m=\u001b[0m \u001b[0mtime\u001b[0m\u001b[0;34m.\u001b[0m\u001b[0mtime\u001b[0m\u001b[0;34m(\u001b[0m\u001b[0;34m)\u001b[0m \u001b[0;34m-\u001b[0m \u001b[0mt1\u001b[0m\u001b[0;34m\u001b[0m\u001b[0;34m\u001b[0m\u001b[0m\n\u001b[1;32m     27\u001b[0m         \u001b[0mprint\u001b[0m\u001b[0;34m(\u001b[0m\u001b[0;34m\"{} ran in: {} sec\"\u001b[0m\u001b[0;34m.\u001b[0m\u001b[0mformat\u001b[0m\u001b[0;34m(\u001b[0m\u001b[0morig_func\u001b[0m\u001b[0;34m.\u001b[0m\u001b[0m__name__\u001b[0m\u001b[0;34m,\u001b[0m \u001b[0mt2\u001b[0m\u001b[0;34m)\u001b[0m\u001b[0;34m)\u001b[0m\u001b[0;34m\u001b[0m\u001b[0;34m\u001b[0m\u001b[0m\n",
      "\u001b[0;31mTypeError\u001b[0m: run_simulation() missing 1 required positional argument: 'sim_object'"
     ]
    }
   ],
   "source": [
    "sim_instance.run_simulation()"
   ]
  },
  {
   "cell_type": "code",
   "execution_count": 11,
   "metadata": {},
   "outputs": [
    {
     "name": "stdout",
     "output_type": "stream",
     "text": [
      "Step: 0\n",
      "Step: 1\n",
      "Sim Time: 2.00, VehInNetwork: 1\n",
      "Step: 2\n",
      "Sim Time: 3.00, VehInNetwork: 1\n",
      "Step: 3\n",
      "Sim Time: 4.00, VehInNetwork: 1\n",
      "Step: 4\n",
      "Sim Time: 5.00, VehInNetwork: 1\n",
      "Step: 5\n",
      "Sim Time: 6.00, VehInNetwork: 1\n",
      "Step: 6\n",
      "Sim Time: 7.00, VehInNetwork: 1\n",
      "Step: 7\n",
      "Sim Time: 8.00, VehInNetwork: 1\n",
      "Step: 8\n",
      "Sim Time: 9.00, VehInNetwork: 1\n",
      "Step: 9\n",
      "Sim Time: 10.00, VehInNetwork: 1\n",
      "Step: 10\n",
      "Sim Time: 11.00, VehInNetwork: 1\n",
      "Step: 11\n",
      "Sim Time: 12.00, VehInNetwork: 1\n",
      "Step: 12\n",
      "Sim Time: 13.00, VehInNetwork: 1\n",
      "Step: 13\n",
      "Sim Time: 14.00, VehInNetwork: 1\n",
      "Step: 14\n",
      "Sim Time: 15.00, VehInNetwork: 1\n",
      "Step: 15\n",
      "Sim Time: 16.00, VehInNetwork: 1\n",
      "Step: 16\n",
      "Sim Time: 17.00, VehInNetwork: 1\n",
      "Step: 17\n",
      "Sim Time: 18.00, VehInNetwork: 1\n",
      "Step: 18\n",
      "Sim Time: 19.00, VehInNetwork: 1\n",
      "Step: 19\n",
      "Sim Time: 20.00, VehInNetwork: 1\n",
      "Step: 20\n",
      "Sim Time: 21.00, VehInNetwork: 1\n",
      "Step: 21\n",
      "Sim Time: 22.00, VehInNetwork: 1\n",
      "Step: 22\n",
      "Sim Time: 23.00, VehInNetwork: 1\n",
      "Step: 23\n",
      "Sim Time: 24.00, VehInNetwork: 1\n",
      "Step: 24\n",
      "Sim Time: 25.00, VehInNetwork: 1\n",
      "Step: 25\n",
      "Sim Time: 26.00, VehInNetwork: 1\n",
      "Step: 26\n",
      "Sim Time: 27.00, VehInNetwork: 1\n",
      "Step: 27\n",
      "Sim Time: 28.00, VehInNetwork: 1\n",
      "Step: 28\n",
      "Sim Time: 29.00, VehInNetwork: 1\n",
      "Step: 29\n",
      "Sim Time: 30.00, VehInNetwork: 1\n"
     ]
    },
    {
     "data": {
      "text/plain": [
       "True"
      ]
     },
     "execution_count": 11,
     "metadata": {},
     "output_type": "execute_result"
    }
   ],
   "source": [
    "flag = False\n",
    "with sim_instance as s:\n",
    "    while s.do_next:\n",
    "        s.run_step()\n",
    "        if s.state.vehicle_in_network(\"0\"):\n",
    "            flag = True\n",
    "flag"
   ]
  },
  {
   "cell_type": "markdown",
   "metadata": {},
   "source": [
    "End"
   ]
  }
 ],
 "metadata": {
  "kernelspec": {
   "display_name": "Python [conda env:symupy]",
   "language": "python",
   "name": "conda-env-symupy-py"
  },
  "language_info": {
   "codemirror_mode": {
    "name": "ipython",
    "version": 3
   },
   "file_extension": ".py",
   "mimetype": "text/x-python",
   "name": "python",
   "nbconvert_exporter": "python",
   "pygments_lexer": "ipython3",
   "version": "3.7.3"
  }
 },
 "nbformat": 4,
 "nbformat_minor": 2
}
