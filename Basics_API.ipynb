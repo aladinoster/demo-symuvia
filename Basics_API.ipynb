{
 "cells": [
  {
   "cell_type": "markdown",
   "metadata": {},
   "source": [
    "# Vehicle control in SymuVia\n",
    "## API basic controls"
   ]
  },
  {
   "cell_type": "markdown",
   "metadata": {},
   "source": [
    "In order to control vehicles in SymuVia it is required the library `libSymuVia.dylib` with exported functions: \n",
    "\n",
    "* The library is able to perform simulations in three ways \n",
    "    * ***Case 1:*** Launch simulation: equialent to the graphical interface (just via python) \n",
    "    * ***Case 2:*** Launch step by step"
   ]
  },
  {
   "cell_type": "markdown",
   "metadata": {},
   "source": [
    "## Step 1: Import the SymuVia Library"
   ]
  },
  {
   "cell_type": "markdown",
   "metadata": {},
   "source": [
    "Import the modules to make visible the library from python "
   ]
  },
  {
   "cell_type": "code",
   "execution_count": 1,
   "metadata": {},
   "outputs": [],
   "source": [
    "# import tasks \n",
    "from ctypes import cdll\n",
    "import os"
   ]
  },
  {
   "cell_type": "markdown",
   "metadata": {},
   "source": [
    "Determine the location of the file `libSymuVia.dylib` in MacOS or `SymuVia.dll` in Windows"
   ]
  },
  {
   "cell_type": "code",
   "execution_count": 2,
   "metadata": {},
   "outputs": [
    {
     "name": "stdout",
     "output_type": "stream",
     "text": [
      "/Users/ladino/Documents/03-Code/02-Python/practices/demo-symuvia/darwin/libSymuVia.dylib\n"
     ]
    }
   ],
   "source": [
    "# library path\n",
    "path_to_library = 'darwin'\n",
    "lib_name = 'libSymuVia.dylib'\n",
    "full_path = os.path.join(os.getcwd(),path_to_library,lib_name)\n",
    "if os.path.isfile(full_path):\n",
    "    print(full_path)\n",
    "# !ls $full_path"
   ]
  },
  {
   "cell_type": "markdown",
   "metadata": {},
   "source": [
    "Charge the library within Python "
   ]
  },
  {
   "cell_type": "code",
   "execution_count": 3,
   "metadata": {},
   "outputs": [],
   "source": [
    "# simulator loading\n",
    "symuvia = cdll.LoadLibrary(full_path)\n",
    "# symuvia "
   ]
  },
  {
   "cell_type": "markdown",
   "metadata": {},
   "source": [
    "## Step 2: Find the simulation File \n",
    "\n",
    "Try with different filenames, here there to examples: `1_scenario_hdv_90_chdv_10.xml` or `bottleneck_001.xml`, first find the exact localization in the folder:"
   ]
  },
  {
   "cell_type": "code",
   "execution_count": 4,
   "metadata": {},
   "outputs": [
    {
     "name": "stdout",
     "output_type": "stream",
     "text": [
      "/Users/ladino/Documents/03-Code/02-Python/practices/demo-symuvia/1_scenario_hdv_90_chdv_10.xml\n"
     ]
    }
   ],
   "source": [
    "# simulation path \n",
    "simulation_filename = '1_scenario_hdv_90_chdv_10.xml'\n",
    "# simulation_filename = 'bottleneck_001.xml'\n",
    "full_path_file = os.path.join(os.getcwd(),simulation_filename)\n",
    "print(full_path_file)\n",
    "# !ls $sim_file"
   ]
  },
  {
   "cell_type": "markdown",
   "metadata": {},
   "source": [
    "Make visible the simulation file to SymuVia"
   ]
  },
  {
   "cell_type": "code",
   "execution_count": 5,
   "metadata": {},
   "outputs": [],
   "source": [
    "# load simulation into symuvia \n",
    "m = symuvia.SymLoadNetworkEx(full_path_file.encode('UTF8'))"
   ]
  },
  {
   "cell_type": "markdown",
   "metadata": {},
   "source": [
    "\n",
    "## Step 3: Launch a Simulation \n",
    "\n",
    "The command `SymRunEx` launches a single run"
   ]
  },
  {
   "cell_type": "code",
   "execution_count": 6,
   "metadata": {},
   "outputs": [
    {
     "data": {
      "text/plain": [
       "0"
      ]
     },
     "execution_count": 6,
     "metadata": {},
     "output_type": "execute_result"
    }
   ],
   "source": [
    "# launch a simulation \n",
    "symuvia.SymRunEx(full_path_file.encode('UTF8'))\n",
    "# returning 0 means success, find all data in : Sim_output_90_10 or test_output"
   ]
  },
  {
   "cell_type": "markdown",
   "metadata": {},
   "source": [
    "\n",
    "## Step 4: Launch a Simulation (Step by Step)\n",
    "\n",
    "To create a simulation by steps it is required to create a buffer, and some pointers towards c. For the following steps it is also necessary to install the package `xmltodict` which parses the XML output from SymuVia into a Python dictionary. More info about installation of this package here [link](https://pypi.org/project/xmltodict/). Install via pip `pip install xmltodict` or via conda (recommended) `conda install -c conda-forge xmltodict`. \n",
    "\n",
    "***Note***: In case it is not clear how to install packages on anaconda follow this link [here](https://www.youtube.com/watch?v=Z_Kxg-EYvxM)"
   ]
  },
  {
   "cell_type": "code",
   "execution_count": 7,
   "metadata": {},
   "outputs": [],
   "source": [
    "from ctypes import create_string_buffer, c_int, byref, c_bool, c_double\n",
    "from xmltodict import parse"
   ]
  },
  {
   "cell_type": "markdown",
   "metadata": {},
   "source": [
    "The following code initializes the pointers "
   ]
  },
  {
   "cell_type": "code",
   "execution_count": 8,
   "metadata": {},
   "outputs": [],
   "source": [
    "# pointers \n",
    "sRequest = create_string_buffer(100000) # Size of buffer -> Depends on number of current vehicles at time t \n",
    "bEnd = c_int() #\n",
    "bTrace = c_bool(False) # Do we want to store xml traces?"
   ]
  },
  {
   "cell_type": "markdown",
   "metadata": {},
   "source": [
    "This code will launch the simulation step by step. First `N_steps` define the number of steps that will be launched. Each time the instruction `symuvia.SymRunNextStepEx` is launched a new step is simulated. At each time step all data is within an `OrderedDict` (a dictionary), in the following example everything is contained in `data`"
   ]
  },
  {
   "cell_type": "code",
   "execution_count": 9,
   "metadata": {},
   "outputs": [
    {
     "name": "stdout",
     "output_type": "stream",
     "text": [
      "t: 0.10 c_int(0)\n",
      "it: 0 None\n",
      "t: 0.20 c_int(0)\n",
      "it: 1 None\n",
      "t: 0.30 c_int(0)\n",
      "it: 2 None\n",
      "t: 0.40 c_int(0)\n",
      "it: 3 None\n",
      "t: 0.50 c_int(0)\n",
      "it: 4 None\n",
      "t: 0.60 c_int(0)\n",
      "it: 5 None\n",
      "t: 0.70 c_int(0)\n",
      "it: 6 None\n",
      "t: 0.80 c_int(0)\n",
      "it: 7 OrderedDict([('TRAJ', OrderedDict([('@abs', '-999.38'), ('@acc', '0.00'), ('@dst', '0.62'), ('@id', '0'), ('@ord', '148.50'), ('@tron', 'Zone_A'), ('@type', 'CHDV'), ('@vit', '20.00'), ('@voie', '1'), ('@z', '0.00')]))])\n",
      "Iteration: 7, time: 0.80\n"
     ]
    }
   ],
   "source": [
    "# start simulation from beginning\n",
    "m = symuvia.SymLoadNetworkEx(full_path_file.encode('UTF8'))\n",
    "\n",
    "N_steps = 8 # run 3 iterations \n",
    "step = iter(range(N_steps))\n",
    "\n",
    "bContinue = True \n",
    "while bContinue:\n",
    "    try:\n",
    "        t = next(step)\n",
    "        bSuccess =  symuvia.SymRunNextStepEx(sRequest, bTrace, byref(bEnd))\n",
    "        data = parse(sRequest.value.decode('UTF8'))\n",
    "        ti = data['INST']['@val']\n",
    "#         print(sRequest.value.decode('UTF8'))\n",
    "        print(f\"t: {ti}\", bEnd)\n",
    "        print(f\"it: {t}\", data['INST']['TRAJS'])\n",
    "        bContinue = not bEnd\n",
    "    except StopIteration:\n",
    "        print(f\"Iteration: {t}, time: {ti}\")\n",
    "        bContinue = False \n",
    "    "
   ]
  },
  {
   "cell_type": "markdown",
   "metadata": {},
   "source": [
    "## Step 5: Vehicle creation\n",
    "\n",
    "For vehicle creation it is important to define: \n",
    " * Vehicle type `str`\n",
    " * Origin `str`\n",
    " * Destination `str`\n",
    " * Lane Number `int`\n",
    " * Time instant `float` \n",
    " \n",
    " **Important**: *Time instant* = first time step of the simulation, all vehicles should be first *created* at first time step, then *driven* at all following time steps.  Vehicle that is not followed for first time can be driven after. This behavior can be then modified. \n",
    "\n",
    " \n",
    " **Procedure to drive**:\n",
    " 1. Create the vehicle \n",
    " 2. Log/register the vehicle within the network `SymRunNextStepEx`\n",
    " 3. Drive the vehicle `SymDriveVehicleEx` \n",
    " 4. To make effective just push the new posiiton via `SymRunNextStepEx`\n",
    "\n",
    "    "
   ]
  },
  {
   "cell_type": "code",
   "execution_count": 10,
   "metadata": {},
   "outputs": [
    {
     "name": "stdout",
     "output_type": "stream",
     "text": [
      "it: 0 None\n",
      "Iteration: 0, time: 0.10\n",
      "\n",
      "Vehicle id 0 created:\n",
      "Vehicle has been logged at time 0.20\n",
      "\n",
      "time: 0.20\n",
      "None\n",
      "\n",
      "Vehicle position has been updated at time 0.30\n",
      "time: 0.30\n",
      "OrderedDict([('TRAJ', OrderedDict([('@abs', '-997.50'), ('@acc', '50.00'), ('@dst', '2.50'), ('@etat_pilotage', 'force (ecoulement non respecte)'), ('@id', '0'), ('@ord', '148.50'), ('@tron', 'Zone_A'), ('@type', 'CHDV'), ('@vit', '25.00'), ('@voie', '1'), ('@z', '0.00')]))])\n"
     ]
    }
   ],
   "source": [
    "# start simulation from beginning\n",
    "m = symuvia.SymLoadNetworkEx(full_path_file.encode('UTF8'))\n",
    "\n",
    "\n",
    "# Run til @ 0.1 \n",
    "N_steps = 1\n",
    "step = iter(range(N_steps))\n",
    "\n",
    "bContinue = True \n",
    "while bContinue:\n",
    "    try:\n",
    "        t = next(step)\n",
    "        bSuccess =  symuvia.SymRunNextStepEx(sRequest, bTrace, byref(bEnd))\n",
    "        data = parse(sRequest.value.decode('UTF8'))\n",
    "        ti = data['INST']['@val']\n",
    "#         print(sRequest.value.decode('UTF8'))\n",
    "        print(f\"it: {t}\", data['INST']['TRAJS'])\n",
    "        bContinue = not bEnd\n",
    "    except StopIteration:\n",
    "        print(f\"Iteration: {t}, time: {ti}\")\n",
    "        bContinue = False\n",
    "\n",
    "# @ t+1\n",
    "# vehicle declaration \n",
    "stype = 'CHDV'\n",
    "sOrigin= 'Ext_In'\n",
    "sDestination = 'Ext_Out'\n",
    "nVoie = c_int(1)\n",
    "dbTime = c_double(0.1)\n",
    "nIdVeh = symuvia.SymCreateVehicleEx(stype.encode('UTF8'),\n",
    "                                    sOrigin.encode('UTF8'),\n",
    "                                    sDestination.encode('UTF8'),\n",
    "                                    nVoie,\n",
    "                                    dbTime)\n",
    "print(f'\\nVehicle id {nIdVeh} created:' )\n",
    "bSuccess =  symuvia.SymRunNextStepEx(sRequest, bTrace, byref(bEnd))\n",
    "data = parse(sRequest.value.decode('UTF8'))\n",
    "ti = data['INST']['@val']\n",
    "print(f'Vehicle has been logged at time {ti}')\n",
    "\n",
    "# Vehicle won't be printed at this time step\n",
    "print(f\"\\ntime: {ti}\")\n",
    "print(data['INST']['TRAJS'])\n",
    "\n",
    "# @ t+1 \n",
    "# (optional - better to avoid)\n",
    "# By doing this, the initial position is initialized by the simulator\n",
    "# Vehicle will be printed at this time step \n",
    "# bSuccess =  symuvia.SymRunNextStepEx(sRequest, True, byref(bEnd))\n",
    "# data = parse(sRequest.value.decode('UTF8'))\n",
    "# ti = data['INST']['@val']\n",
    "\n",
    "# print(f\"\\ntime: {ti}\")\n",
    "# print(data['INST']['TRAJS'])\n",
    "\n",
    "\n",
    "# @ t+1\n",
    "# Vehicle will be driven to a specific position (forcing position) \n",
    "# It can be done after simulation \n",
    "dPos = c_double(2.5)\n",
    "sLink = 'Zone_A'\n",
    "nres = symuvia.SymDriveVehicleEx(nIdVeh,\n",
    "                                 sLink.encode('UTF8'), \n",
    "                                 nVoie, \n",
    "                                 dPos, \n",
    "                                 1)\n",
    "\n",
    "bSuccess =  symuvia.SymRunNextStepEx(sRequest, bTrace, byref(bEnd))\n",
    "data = parse(sRequest.value.decode('UTF8'))\n",
    "ti = data['INST']['@val']\n",
    "print(f'\\nVehicle position has been updated at time {ti}')\n",
    "print(f\"time: {ti}\")\n",
    "print(data['INST']['TRAJS'])"
   ]
  },
  {
   "cell_type": "markdown",
   "metadata": {},
   "source": [
    "Once created the vehicle can be handled by the simulator as expected "
   ]
  },
  {
   "cell_type": "markdown",
   "metadata": {},
   "source": [
    "It is possible also to drive partially a vehicle "
   ]
  },
  {
   "cell_type": "code",
   "execution_count": 11,
   "metadata": {},
   "outputs": [
    {
     "name": "stdout",
     "output_type": "stream",
     "text": [
      "Vehicle position has been updated at time 0.40\n",
      "\n",
      "time: 0.40\n",
      "OrderedDict([('TRAJ', OrderedDict([('@abs', '-995.50'), ('@acc', '-50.00'), ('@dst', '4.50'), ('@id', '0'), ('@ord', '148.50'), ('@tron', 'Zone_A'), ('@type', 'CHDV'), ('@vit', '20.00'), ('@voie', '1'), ('@z', '0.00')]))])\n"
     ]
    }
   ],
   "source": [
    "bSuccess =  symuvia.SymRunNextStepEx(sRequest, bTrace, byref(bEnd))\n",
    "data = parse(sRequest.value.decode('UTF8'))\n",
    "ti = data['INST']['@val']\n",
    "print(f'Vehicle position has been updated at time {ti}')\n",
    "print(\"\\ntime: {}\".format(ti))\n",
    "print(data['INST']['TRAJS'])"
   ]
  },
  {
   "cell_type": "markdown",
   "metadata": {},
   "source": [
    "## Step 6: Drive an existing vehicle \n",
    "\n",
    "To drive the vehicle it is required just to identify the `id` and provide informaiton about `position`, `lane`, `link`"
   ]
  },
  {
   "cell_type": "code",
   "execution_count": 12,
   "metadata": {},
   "outputs": [
    {
     "name": "stdout",
     "output_type": "stream",
     "text": [
      "it: 0 None\n",
      "it: 1 None\n",
      "it: 2 None\n",
      "it: 3 None\n",
      "it: 4 None\n",
      "it: 5 None\n",
      "it: 6 None\n",
      "it: 7 OrderedDict([('TRAJ', OrderedDict([('@abs', '-999.38'), ('@acc', '0.00'), ('@dst', '0.62'), ('@id', '0'), ('@ord', '148.50'), ('@tron', 'Zone_A'), ('@type', 'CHDV'), ('@vit', '20.00'), ('@voie', '1'), ('@z', '0.00')]))])\n",
      "Iteration: 7, time: 0.80\n",
      "\n",
      "time: 0.80\n",
      "OrderedDict([('TRAJ', OrderedDict([('@abs', '-999.38'), ('@acc', '0.00'), ('@dst', '0.62'), ('@id', '0'), ('@ord', '148.50'), ('@tron', 'Zone_A'), ('@type', 'CHDV'), ('@vit', '20.00'), ('@voie', '1'), ('@z', '0.00')]))])\n",
      "\n",
      "Vehicle position has been updated at time 0.90\n",
      "time: 0.90\n",
      "OrderedDict([('TRAJ', OrderedDict([('@abs', '-999.00'), ('@acc', '-161.54'), ('@dst', '1.00'), ('@etat_pilotage', 'force (ecoulement respecte)'), ('@id', '0'), ('@ord', '148.50'), ('@tron', 'Zone_A'), ('@type', 'CHDV'), ('@vit', '3.85'), ('@voie', '1'), ('@z', '0.00')]))])\n"
     ]
    }
   ],
   "source": [
    "# start simulation from beginning\n",
    "m = symuvia.SymLoadNetworkEx(full_path_file.encode('UTF8'))\n",
    "\n",
    "# Run til @ 0.1 \n",
    "N_steps = 8\n",
    "step = iter(range(N_steps))\n",
    "\n",
    "bContinue = True \n",
    "while bContinue:\n",
    "    try:\n",
    "        t = next(step)\n",
    "        bSuccess =  symuvia.SymRunNextStepEx(sRequest, bTrace, byref(bEnd))\n",
    "        data = parse(sRequest.value.decode('UTF8'))\n",
    "        ti = data['INST']['@val']\n",
    "#         print(sRequest.value.decode('UTF8'))\n",
    "        print(f\"it: {t}\", data['INST']['TRAJS'])\n",
    "        bContinue = not bEnd\n",
    "    except StopIteration:\n",
    "        print(f\"Iteration: {t}, time: {ti}\")\n",
    "        bContinue = False\n",
    "\n",
    "\n",
    "print(\"\\ntime: {}\".format(data['INST']['@val']))\n",
    "print(data['INST']['TRAJS'])       \n",
    "\n",
    "nIdVeh = 0\n",
    "nVoie = c_int(1)\n",
    "dPos = c_double(1)\n",
    "sLink = 'Zone_A'\n",
    "nres = symuvia.SymDriveVehicleEx(nIdVeh,sLink.encode('UTF8'), nVoie, dPos, 1)\n",
    "bSuccess =  symuvia.SymRunNextStepEx(sRequest, bTrace, byref(bEnd))\n",
    "data = parse(sRequest.value.decode('UTF8'))\n",
    "ti = data['INST']['@val']\n",
    "print(f'\\nVehicle position has been updated at time {ti}')\n",
    "print(\"time: {}\".format(ti))\n",
    "print(data['INST']['TRAJS'])"
   ]
  },
  {
   "cell_type": "markdown",
   "metadata": {},
   "source": [
    "what happens with vehicles that are not driven anymore?\n",
    "\n",
    "**R/:**  They continue their evolution as if they were under car-following."
   ]
  },
  {
   "cell_type": "code",
   "execution_count": 13,
   "metadata": {},
   "outputs": [
    {
     "name": "stdout",
     "output_type": "stream",
     "text": [
      "Vehicle position has been updated at time 1.00\n",
      "\n",
      "time: 1.00\n",
      "OrderedDict([('TRAJ', OrderedDict([('@abs', '-998.60'), ('@acc', '1.50'), ('@dst', '1.40'), ('@id', '0'), ('@ord', '148.50'), ('@tron', 'Zone_A'), ('@type', 'CHDV'), ('@vit', '4.00'), ('@voie', '1'), ('@z', '0.00')]))])\n"
     ]
    }
   ],
   "source": [
    "bSuccess =  symuvia.SymRunNextStepEx(sRequest, bTrace, byref(bEnd))\n",
    "data = parse(sRequest.value.decode('UTF8'))\n",
    "ti = data['INST']['@val']\n",
    "print(f'Vehicle position has been updated at time {ti}')\n",
    "print(\"\\ntime: {}\".format(ti))\n",
    "print(data['INST']['TRAJS'])"
   ]
  },
  {
   "cell_type": "markdown",
   "metadata": {},
   "source": [
    "Author: Andres Ladino"
   ]
  }
 ],
 "metadata": {
  "kernelspec": {
   "display_name": "Python [conda env:symupy]",
   "language": "python",
   "name": "conda-env-symupy-py"
  },
  "language_info": {
   "codemirror_mode": {
    "name": "ipython",
    "version": 3
   },
   "file_extension": ".py",
   "mimetype": "text/x-python",
   "name": "python",
   "nbconvert_exporter": "python",
   "pygments_lexer": "ipython3",
   "version": "3.7.3"
  }
 },
 "nbformat": 4,
 "nbformat_minor": 2
}
